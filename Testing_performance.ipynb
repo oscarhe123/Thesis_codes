{
 "cells": [
  {
   "cell_type": "code",
   "execution_count": 15,
   "id": "24e079c8",
   "metadata": {},
   "outputs": [],
   "source": [
    "import matplotlib.pyplot as plt\n",
    "import seaborn as sns\n",
    "import pandas as pd\n",
    "import numpy as np\n",
    "import torch\n",
    "import os\n",
    "\n",
    "from nn_models.lstm_unet import UNet_ConvLSTM\n",
    "from nn_models.NN_model_orig import *\n",
    "\n",
    "from utils.utilities import *\n",
    "import torchvision\n",
    "\n",
    "#generating data\n",
    "from utils.MB_simulator_utils_v4 import *\n",
    "\n",
    "# metrics \n",
    "from torchmetrics.classification import BinaryF1Score\n",
    "from torchmetrics.classification import BinaryConfusionMatrix\n",
    "from torchmetrics.classification import BinaryJaccardIndex\n",
    "from torchmetrics.classification import BinaryPrecision\n",
    "from torchmetrics.classification import BinaryRecall\n"
   ]
  },
  {
   "cell_type": "code",
   "execution_count": 16,
   "id": "9e1213e6",
   "metadata": {},
   "outputs": [
    {
     "name": "stdout",
     "output_type": "stream",
     "text": [
      "Using device cuda:0\n"
     ]
    }
   ],
   "source": [
    "# Device\n",
    "device = torch.device(\"cuda:0\" if torch.cuda.is_available() else \"cpu\")\n",
    "#device = torch.device(\"cpu\")\n",
    "print(\"Using device\", device)\n",
    "path = r'./' # Path to model\n",
    "\n",
    "tmp_result_dir_exist = os.path.exists(\"./tmp_results\")\n",
    "if not tmp_result_dir_exist:\n",
    "   # Create a tmp_results dir because it does not exist\n",
    "   os.makedirs(\"./tmp_results\")"
   ]
  },
  {
   "cell_type": "markdown",
   "id": "3f846248",
   "metadata": {},
   "source": [
    "## Testing model and results"
   ]
  },
  {
   "cell_type": "code",
   "execution_count": 21,
   "id": "db01554c",
   "metadata": {},
   "outputs": [
    {
     "data": {
      "text/plain": [
       "<All keys matched successfully>"
      ]
     },
     "execution_count": 21,
     "metadata": {},
     "output_type": "execute_result"
    }
   ],
   "source": [
    "method = 'DeepSMV'  # options : DeepSMV / DBlink / Reg_Unet\n",
    "\n",
    "if method == 'DBlink':\n",
    "    \n",
    "    # model parameters\n",
    "    model_name = 'DBlink_model'\n",
    "    img_size = 128 \n",
    "    num_layers = 2 # The number of LSTM layers\n",
    "    hidden_channels = 4 # The hidden layer number of channels at the output of each lstm cell. Purpose?: adding more combinations of features? -> Higher complexity. It's more features.\n",
    "    window_size = 25 # The number of used windows (in each direction) for the inference of each reconstructed frame\n",
    "    model = ConvOverlapBLSTM(input_size=(img_size, img_size), input_channels=1, hidden_channels=hidden_channels, num_layers=num_layers, device=device).to(device)  #DBlink\n",
    "     \n",
    "        \n",
    "elif method == \"DeepSMV\":\n",
    "    \n",
    "    # model parameters\n",
    "    model_name = 'DeepSMV_model' \n",
    "    num_lstm_layers = 1 \n",
    "    in_ch = 1  \n",
    "    out_ch = 1 \n",
    "\n",
    "    #model = UNet_ConvLSTM(n_channels=1, n_classes=1, use_LSTM=True, parallel_encoder=False, lstm_layers=1).to(device)  #DeepSMV original \n",
    "    model = UNet_ConvLSTM(n_channels= in_ch, n_classes= out_ch, use_LSTM=True, parallel_encoder=False, lstm_layers= num_lstm_layers).to(device)  #DeepSMV original \n",
    "    \n",
    "    \n",
    "elif method == 'Reg_Unet':\n",
    "    \n",
    "    # model parameters\n",
    "    model_name = 'Reg_Unet_model' \n",
    "    num_lstm_layers = 1 \n",
    "    in_ch = 2\n",
    "    out_ch = 1 \n",
    "    LSTM_used = False\n",
    "\n",
    "    #model = UNet_ConvLSTM(n_channels=1, n_classes=1, use_LSTM=True, parallel_encoder=False, lstm_layers=1).to(device)  #DeepSMV original \n",
    "    model = UNet_ConvLSTM(n_channels= in_ch, n_classes= out_ch, use_LSTM= LSTM_used, parallel_encoder=False, lstm_layers= num_lstm_layers).to(device)  #DeepSMV original \n",
    "    \n",
    "   \n",
    "\n",
    "\n",
    "model.load_state_dict(torch.load(model_name, map_location=torch.device(device)))\n",
    "\n",
    "\n"
   ]
  },
  {
   "cell_type": "code",
   "execution_count": null,
   "id": "0518ba48",
   "metadata": {},
   "outputs": [],
   "source": []
  },
  {
   "cell_type": "code",
   "execution_count": 22,
   "id": "7b6b5686",
   "metadata": {},
   "outputs": [
    {
     "name": "stdout",
     "output_type": "stream",
     "text": [
      "RMSE (mm/s per pixel per frame) :  2.1965632557972805\n"
     ]
    }
   ],
   "source": [
    "\n",
    "\n",
    "X_test = torch.load('X_test')\n",
    "y_test = torch.load('y_test')\n",
    "\n",
    "rotate90 = True   \n",
    "ktimes = 4\n",
    "if(rotate90):\n",
    "    X_test = torch.rot90(X_test,k = ktimes, dims = [3, 4])\n",
    "    y_test = torch.rot90(y_test,k = ktimes, dims = [2, 3])\n",
    "    \n",
    "X_test = X_test.to(device)\n",
    "y_test = y_test.to(device)\n",
    "    \n",
    "#model_name = 'best_model'\n",
    "#model.load_state_dict(torch.load(model_name, map_location=torch.device(device)))\n",
    "\n",
    "GT = y_test    \n",
    "model.eval()\n",
    "\n",
    "with torch.no_grad():\n",
    "        \n",
    "    if method == 'DBlink':   \n",
    "        GT = y_test[:,[4],:] \n",
    "        out = model(X_test,torch.flip(X_test, dims=[1]))\n",
    "        realout = out[:,X_test.shape[1]//2,[0]]\n",
    "        \n",
    "        #print(X_test.shape[1]//2)\n",
    "        \n",
    "        #print(GT.shape)\n",
    "        #print(realout.shape)\n",
    "                      \n",
    "    elif method =='DeepSMV':\n",
    "        GT = y_test[:,[4],:]\n",
    "        realout,_ = model(X_test)\n",
    "        #realout = realout[:,0,:,:]\n",
    "    elif method == 'Reg_Unet':\n",
    "        GT = y_test[:,[4],:] \n",
    "        print(GT.shape)\n",
    "        \n",
    "        realout,_ = model(y_test[:,[3,1],:])\n",
    "        print(realout.shape)\n",
    "        \n",
    "        \n",
    "    else:\n",
    "        print('check method name')    \n",
    "    #print(out.shape)\n",
    "    #print(realout.shape)\n",
    "    #print(y_test.shape)\n",
    "        \n",
    "    criterion = nn.MSELoss()\n",
    "    Metric=criterion(realout,GT) # MSE \n",
    "    print('RMSE (mm/s per pixel per frame) : ' ,np.sqrt(Metric.item())) \n",
    "    \n",
    "    # realout = realout.detach().cpu().numpy()\n",
    "    # GT = GT.detach().cpu().numpy()\n",
    "\n",
    "    \n",
    "folder = r'./tmp_results'\n",
    "        \n",
    "realout = normalize_images(realout)\n",
    "#print(realout.shape)\n",
    "#print(realout.dtype)\n",
    "GT = normalize_images(GT)\n",
    "        \n",
    "tracks = normalize_images(y_test[:,[3],:])\n",
    "#realout = realout[:,None,:]\n",
    "#GT = GT[:,None,:]\n",
    "        \n",
    "torchvision.utils.save_image(realout, f\"{folder}/inference.png\")\n",
    "torchvision.utils.save_image(GT, f\"{folder}/GT.png\")\n",
    "torchvision.utils.save_image(tracks, f\"{folder}/input.png\")"
   ]
  },
  {
   "cell_type": "code",
   "execution_count": null,
   "id": "a634e2e3",
   "metadata": {},
   "outputs": [],
   "source": []
  },
  {
   "cell_type": "markdown",
   "id": "965f69f3",
   "metadata": {},
   "source": [
    "## Violin plots of models\n",
    "### RMSE mm/s per pixel \n"
   ]
  },
  {
   "cell_type": "code",
   "execution_count": 9,
   "id": "2a974717",
   "metadata": {},
   "outputs": [
    {
     "name": "stdout",
     "output_type": "stream",
     "text": [
      "total window size : 250.0\n"
     ]
    },
    {
     "name": "stderr",
     "output_type": "stream",
     "text": [
      "100% 32/32 [00:01<00:00, 30.23it/s]\n",
      "100% 32/32 [00:01<00:00, 30.19it/s]\n",
      "100% 32/32 [00:01<00:00, 29.17it/s]\n",
      "100% 32/32 [00:01<00:00, 28.07it/s]\n",
      "100% 32/32 [00:01<00:00, 26.30it/s]\n",
      "100% 32/32 [00:01<00:00, 24.55it/s]\n",
      "100% 32/32 [00:01<00:00, 22.98it/s]\n",
      "100% 32/32 [00:01<00:00, 20.40it/s]\n",
      "100% 32/32 [00:01<00:00, 19.93it/s]\n",
      "100% 32/32 [00:01<00:00, 19.20it/s]\n",
      "100% 32/32 [00:01<00:00, 17.31it/s]\n",
      "100% 32/32 [00:02<00:00, 14.97it/s]\n",
      "100% 32/32 [00:02<00:00, 13.97it/s]\n",
      "100% 32/32 [00:02<00:00, 11.94it/s]\n",
      "100% 32/32 [00:03<00:00, 10.50it/s]\n"
     ]
    }
   ],
   "source": [
    "# Parameters\n",
    "G =  100000*0.6  #constant gradient pressure Pa/m^-3  #0.5 original\n",
    "mu = 3.45*10**-3 #dynamic viscosity  Pa*s\n",
    "imgsize= 128 #pixels in x and y direction\n",
    "pixelsize = 5*10**-6 # m isotropic pixel size \n",
    "rho = 1056 # kg/m^3\n",
    "\n",
    "N_test = 32\n",
    "C = 8*10**11 #concentration of MBs/m^2\n",
    "\n",
    "Hz = 250\n",
    "Ts = 1/Hz# sample time in s\n",
    "\n",
    "T_acq = 1 # time of collecting data\n",
    "N_frames = T_acq / Ts  #number of simulated frames with frequency Hz, same value for videolength \n",
    "\n",
    "sumfactor = 1\n",
    "\n",
    "window_size = N_frames / sumfactor # total window size \n",
    "print('total window size :',window_size)\n",
    "\n",
    "#N_b = 4 # average number of MB passing through the crossection vessel \n",
    "\n",
    "# simulating pixel radius range between min and max pixel radius\n",
    "\n",
    "R_window = [8,22]\n",
    "\n",
    "RMSE = np.zeros(( R_window[1] - R_window[0]+1 ,N_test))\n",
    "F1 = np.zeros(( R_window[1] - R_window[0]+1 ,N_test))\n",
    "FPR = np.zeros(( R_window[1] - R_window[0]+1 ,N_test))\n",
    "IoU = np.zeros(( R_window[1] - R_window[0]+1 ,N_test))\n",
    "PREC = np.zeros(( R_window[1] - R_window[0]+1 ,N_test))\n",
    "RECALL = np.zeros(( R_window[1] - R_window[0]+1 ,N_test))\n",
    "\n",
    "R = np.arange(R_window[0],R_window[1]+1)\n",
    "\n",
    "criterion = nn.MSELoss()\n",
    "#BCM = BinaryConfusionMatrix().to(device)\n",
    "#BJI = BinaryJaccardIndex().to(device)\n",
    "BF1 = BinaryF1Score().to(device)\n",
    "pre = BinaryPrecision().to(device)\n",
    "rec = BinaryRecall().to(device)\n",
    "\n",
    "\n",
    "for i in range(len(R)):\n",
    "    \n",
    "    X_test, y_test = create_real_data(N_test,G,mu,imgsize,pixelsize,C,Ts,sumfactor,N_frames,R[i],R[i])\n",
    "    X_test = torch.FloatTensor(X_test).to(device)\n",
    "    y_test = torch.FloatTensor(y_test).to(device)\n",
    "    \n",
    "    GT = y_test    \n",
    "    model.eval()\n",
    "\n",
    "    with torch.no_grad():\n",
    "\n",
    "        if method == 'DBlink':   \n",
    "            GT = y_test[:,[4],:] \n",
    "            out = model(X_test,torch.flip(X_test, dims=[1]))\n",
    "            realout = out[:,X_test.shape[1]//2,[0]]\n",
    "            \n",
    "            del out\n",
    "\n",
    "            #print(X_test.shape[1]//2)\n",
    "\n",
    "            #print(GT.shape)\n",
    "            #print(realout.shape)\n",
    "\n",
    "        elif method =='DeepSMV':\n",
    "            GT = y_test[:,[4],:]\n",
    "            realout,_ = model(X_test)\n",
    "            #realout = realout[:,0,:,:]\n",
    "        elif method == 'Reg_Unet':\n",
    "            GT = y_test[:,[4],:] \n",
    "            #print(GT.shape)\n",
    "\n",
    "            realout,_ = model(y_test[:,[3,1],:])\n",
    "            #print(realout.shape)\n",
    "            #realout =y_test[:,[3],:]\n",
    "\n",
    "\n",
    "        else:\n",
    "            print('check method name')    \n",
    "  \n",
    "\n",
    "        \n",
    "        dumrealout = torch.zeros_like(GT).to(device)\n",
    "        threshold = 0.5\n",
    "        dumrealout[realout>threshold ] =1\n",
    "        dumrealout[realout<=threshold]= 0\n",
    "        \n",
    "        dumGT = torch.zeros_like(GT).to(device)\n",
    "        dumGT[GT>threshold] = 1\n",
    "        dumGT[GT<=threshold] = 0\n",
    "        \n",
    "        \n",
    "        for j in range(realout.shape[0]):\n",
    "            Metric=criterion(realout[j,:],GT[j,:]) # MSE\n",
    "            RMSE[i,j] =  np.sqrt(Metric.item())\n",
    "            #bjimetric = BJI(dumrealout[j,:],dumGT[j,:])\n",
    "            #IoU[i,j] = bjimetric.item()\n",
    "            \n",
    "            F1metric = BF1(dumrealout[j,:],dumGT[j,:])\n",
    "            F1[i,j] = F1metric.item()\n",
    "            \n",
    "            #BCMmetric = BCM(dumrealout[j,:],dumGT[j,:])\n",
    "            #fpr = BCMmetric[0,1] / (BCMmetric[0,1] + BCMmetric[0,0])\n",
    "            #FPR[i,j] = fpr \n",
    "            \n",
    "            premetric = pre(dumrealout[j,:],dumGT[j,:])\n",
    "            PREC[i,j] = premetric.item()   \n",
    "            \n",
    "            recmetric = rec(dumrealout[j,:],dumGT[j,:])\n",
    "            RECALL[i,j] = recmetric.item()     \n",
    "            \n",
    "        del X_test,y_test,dumGT,dumrealout,Metric,F1metric,GT,realout,premetric,recmetric\n",
    "        torch.cuda.empty_cache()\n",
    "\n",
    "            \n",
    "        \n"
   ]
  },
  {
   "cell_type": "code",
   "execution_count": 10,
   "id": "175abefe",
   "metadata": {},
   "outputs": [
    {
     "data": {
      "image/png": "[encoded data removed]",
      "text/plain": [
       "<Figure size 432x288 with 1 Axes>"
      ]
     },
     "metadata": {
      "needs_background": "light"
     },
     "output_type": "display_data"
    },
    {
     "data": {
      "image/png": "[encoded data removed]",
      "text/plain": [
       "<Figure size 432x288 with 1 Axes>"
      ]
     },
     "metadata": {
      "needs_background": "light"
     },
     "output_type": "display_data"
    },
    {
     "data": {
      "image/png": "[encoded data removed]",
      "text/plain": [
       "<Figure size 432x288 with 1 Axes>"
      ]
     },
     "metadata": {
      "needs_background": "light"
     },
     "output_type": "display_data"
    },
    {
     "data": {
      "image/png": "[encoded data removed]",
      "text/plain": [
       "<Figure size 432x288 with 1 Axes>"
      ]
     },
     "metadata": {
      "needs_background": "light"
     },
     "output_type": "display_data"
    }
   ],
   "source": [
    "## RMSE\n",
    "\n",
    "df = pd.DataFrame({\n",
    "    'Radius in pixels': np.repeat(R, RMSE.shape[1]),\n",
    "    'RMSE mm/s per pixel': RMSE.ravel()\n",
    "})\n",
    "\n",
    "\n",
    "sns.violinplot(x='Radius in pixels', y='RMSE mm/s per pixel', data=df)\n",
    "plt.title(f'Distribution of RMSE across different vessel radius with T_acq =  {T_acq}')\n",
    "plt.xlabel('Radius in pixels')\n",
    "plt.ylabel('RMSE mm/s per pixel')\n",
    "plt.show()\n",
    "\n",
    "## F1 or dicecoefficient\n",
    "\n",
    "dfF1 = pd.DataFrame({\n",
    "    'Radius': np.repeat(R, F1.shape[1]),\n",
    "    'F1 ': F1 .ravel()\n",
    "})\n",
    "\n",
    "sns.violinplot(x='Radius', y='F1 ', data=dfF1 )\n",
    "plt.title(f'Distribution of F1  across different vessel radius with T_acq =  {T_acq}')\n",
    "plt.xlabel('Radius in pixels')\n",
    "plt.ylabel('F1 ')\n",
    "plt.show()\n",
    "\n",
    "## precision\n",
    "\n",
    "dfPREC = pd.DataFrame({\n",
    "    'Radius': np.repeat(R, PREC.shape[1]),\n",
    "    'PREC ': PREC.ravel()\n",
    "})\n",
    "\n",
    "sns.violinplot(x='Radius', y='PREC ', data=dfPREC )\n",
    "plt.title(f'Distribution of precision across different vessel radius with T_acq =  {T_acq}')\n",
    "plt.xlabel('Radius in pixels')\n",
    "plt.ylabel('Precision ')\n",
    "plt.show()\n",
    "\n",
    "## recall\n",
    "\n",
    "dfRECALL = pd.DataFrame({\n",
    "    'Radius': np.repeat(R, RECALL.shape[1]),\n",
    "    'RECALL': RECALL.ravel()\n",
    "})\n",
    "\n",
    "sns.violinplot(x='Radius', y='RECALL', data=dfRECALL )\n",
    "plt.title(f'Distribution of Recall across different vessel radius with T_acq =  {T_acq}')\n",
    "plt.xlabel('Radius in pixels')\n",
    "plt.ylabel('Recall ')\n",
    "plt.show()\n",
    "\n",
    "# ## IoU or Jaccard\n",
    "\n",
    "# dfIoU = pd.DataFrame({\n",
    "#     'Radius': np.repeat(R, IoU.shape[1]),\n",
    "#     'IoU': IoU.ravel()\n",
    "# })\n",
    "\n",
    "# sns.violinplot(x='Radius', y='IoU', data=dfIoU)\n",
    "# plt.title(f'Distribution of IoU Across different vessel radius with T_acq =  {T_acq}')\n",
    "# plt.xlabel('Radius in pixels')\n",
    "# plt.ylabel('IoU')\n",
    "# plt.show()\n",
    "\n",
    "# #Hallucination or FP / (FP + TN)\n",
    "\n",
    "# dfFPR = pd.DataFrame({\n",
    "#     'Radius': np.repeat(R, FPR.shape[1]),\n",
    "#     'FPR': FPR.ravel()\n",
    "# })\n",
    "\n",
    "# sns.violinplot(x='Radius', y='FPR', data=dfFPR)\n",
    "# plt.title(f'Distribution of FPR Across different vessel radius with T_acq =  {T_acq}')\n",
    "# plt.xlabel('Radius in pixels')\n",
    "# plt.ylabel('FPR')\n",
    "# plt.show()\n",
    "\n"
   ]
  },
  {
   "cell_type": "code",
   "execution_count": 7,
   "id": "ed922425",
   "metadata": {},
   "outputs": [
    {
     "data": {
      "text/plain": [
       "16.0"
      ]
     },
     "execution_count": 7,
     "metadata": {},
     "output_type": "execute_result"
    }
   ],
   "source": [
    "20*1e3/250/5"
   ]
  },
  {
   "cell_type": "code",
   "execution_count": null,
   "id": "abd28fe2",
   "metadata": {},
   "outputs": [],
   "source": []
  }
 ],
 "metadata": {
  "kernelspec": {
   "display_name": "Python 3 (ipykernel)",
   "language": "python",
   "name": "python3"
  },
  "language_info": {
   "codemirror_mode": {
    "name": "ipython",
    "version": 3
   },
   "file_extension": ".py",
   "mimetype": "text/x-python",
   "name": "python",
   "nbconvert_exporter": "python",
   "pygments_lexer": "ipython3",
   "version": "3.8.12"
  }
 },
 "nbformat": 4,
 "nbformat_minor": 5
}
