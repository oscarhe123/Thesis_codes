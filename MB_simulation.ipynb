{
 "cells": [
  {
   "cell_type": "code",
   "execution_count": 1,
   "id": "54ab2e3c",
   "metadata": {},
   "outputs": [],
   "source": [
    "import numpy as np\n",
    "#import skimage as ski\n",
    "import matplotlib.pyplot as plt\n",
    "from utils.MB_simulator_utils_v4 import *\n",
    "#import utils.MB_simulator_utils_v2 \n",
    "import torch\n",
    "import os\n",
    "\n",
    "path = r'./' # Path to model"
   ]
  },
  {
   "cell_type": "markdown",
   "id": "d06a96b5",
   "metadata": {},
   "source": [
    "## Parameters"
   ]
  },
  {
   "cell_type": "code",
   "execution_count": 13,
   "id": "f72248d2",
   "metadata": {},
   "outputs": [
    {
     "name": "stdout",
     "output_type": "stream",
     "text": [
      "total window size : 25.0\n",
      "R_minpixel, R_maxpixel :  [10, 20]\n"
     ]
    }
   ],
   "source": [
    "# Parameters\n",
    "G =  100000*0.6  #constant gradient pressure Pa/m^-3  #0.5 original\n",
    "mu = 3.45*10**-3 #dynamic viscosity  Pa*s\n",
    "imgsize= 128 #pixels in x and y direction\n",
    "pixelsize = 5*10**-6 # m isotropic pixel size \n",
    "rho = 1056 # kg/m^3\n",
    "\n",
    "\n",
    "N_train = 512 # number of simulated data for the dataset\n",
    "N_val = 128\n",
    "N_test = 64\n",
    "C = 8*10**11 #concentration of MBs/m^2\n",
    "\n",
    "Hz = 250\n",
    "Ts = 1/Hz# sample time in s\n",
    "\n",
    "T_acq = 0.1 # time of collecting data\n",
    "N_frames = T_acq / Ts  #number of simulated frames with frequency Hz, same value for videolength \n",
    "\n",
    "sumfactor = 1\n",
    "\n",
    "window_size = N_frames / sumfactor # total window size \n",
    "print('total window size :',window_size)\n",
    "\n",
    "N_b = 3 # average number of MB passing through the crossection vessel \n",
    "\n",
    "# simulating pixel radius range between min and max pixel radius\n",
    "G = 0.5 * G\n",
    "R,R_minpixel = smallest_R(C,mu,G,T_acq,N_b,pixelsize)\n",
    "#R_maxpixel = imgsize /4  # pixel \n",
    "\n",
    "#R_minpixel = 12\n",
    "#R_maxpixel = R_minpixel\n",
    "#R_minpixel = 18\n",
    "R_maxpixel = 20\n",
    "\n",
    "print('R_minpixel, R_maxpixel : ' ,[R_minpixel ,R_maxpixel])\n",
    "\n",
    "G = 2 *G\n"
   ]
  },
  {
   "cell_type": "markdown",
   "id": "2187c716",
   "metadata": {},
   "source": [
    "## Generate data"
   ]
  },
  {
   "cell_type": "code",
   "execution_count": 14,
   "id": "3bc82900",
   "metadata": {},
   "outputs": [
    {
     "name": "stderr",
     "output_type": "stream",
     "text": [
      "100% 64/64 [00:00<00:00, 156.95it/s]\n"
     ]
    }
   ],
   "source": [
    "generate_train_data = False #True\n",
    "generate_val_data =  False #True\n",
    "generate_test_data = True\n",
    "\n",
    "\n",
    "if __name__ == \"__main__\":\n",
    "    if(generate_train_data):\n",
    "        \n",
    "        X_train,y_train  = create_real_data(N_train,G,mu,imgsize,pixelsize,C,Ts,sumfactor,N_frames,R_minpixel,R_maxpixel)\n",
    "        X_train = torch.FloatTensor(X_train)\n",
    "        y_train = torch.FloatTensor(y_train)\n",
    "        torch.save(X_train, 'X_train')\n",
    "        torch.save(y_train, 'y_train')\n",
    "        \n",
    "    if(generate_val_data):\n",
    "        \n",
    "        X_val,y_val  = create_real_data(N_val,G,mu,imgsize,pixelsize,C,Ts,sumfactor,N_frames,R_minpixel,R_maxpixel)\n",
    "        X_val = torch.FloatTensor(X_val)\n",
    "        y_val = torch.FloatTensor(y_val)\n",
    "        torch.save(X_val, 'X_val')\n",
    "        torch.save(y_val, 'y_val')\n",
    "        \n",
    "    if(generate_test_data):\n",
    "        \n",
    "        X_test, y_test = create_real_data(N_test,G,mu,imgsize,pixelsize,C,Ts,sumfactor,N_frames,R_minpixel,R_maxpixel)\n",
    "        X_test = torch.FloatTensor(X_test)\n",
    "        y_test = torch.FloatTensor(y_test)\n",
    "        torch.save(X_test, 'X_test')\n",
    "        torch.save(y_test, 'y_test')"
   ]
  },
  {
   "cell_type": "code",
   "execution_count": 4,
   "id": "cf359394",
   "metadata": {},
   "outputs": [
    {
     "data": {
      "text/plain": [
       "array([7])"
      ]
     },
     "execution_count": 4,
     "metadata": {},
     "output_type": "execute_result"
    }
   ],
   "source": [
    "np.random.randint(5,11,1)"
   ]
  },
  {
   "cell_type": "code",
   "execution_count": 5,
   "id": "95b9285e",
   "metadata": {},
   "outputs": [
    {
     "data": {
      "text/plain": [
       "tensor(9.)"
      ]
     },
     "execution_count": 5,
     "metadata": {},
     "output_type": "execute_result"
    }
   ],
   "source": [
    "y_train.shape\n",
    "y_train[:,5,:].max()"
   ]
  },
  {
   "cell_type": "code",
   "execution_count": null,
   "id": "7ba2a172",
   "metadata": {},
   "outputs": [],
   "source": []
  },
  {
   "cell_type": "code",
   "execution_count": null,
   "id": "15618d84",
   "metadata": {},
   "outputs": [],
   "source": []
  }
 ],
 "metadata": {
  "kernelspec": {
   "display_name": "Python 3 (ipykernel)",
   "language": "python",
   "name": "python3"
  },
  "language_info": {
   "codemirror_mode": {
    "name": "ipython",
    "version": 3
   },
   "file_extension": ".py",
   "mimetype": "text/x-python",
   "name": "python",
   "nbconvert_exporter": "python",
   "pygments_lexer": "ipython3",
   "version": "3.8.12"
  }
 },
 "nbformat": 4,
 "nbformat_minor": 5
}
